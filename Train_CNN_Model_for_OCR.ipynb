{
  "nbformat": 4,
  "nbformat_minor": 0,
  "metadata": {
    "colab": {
      "provenance": [],
      "collapsed_sections": [
        "JpH1Z5oyCGJd",
        "FBO5qIIYCLA9",
        "LL_snHevB_Q-"
      ],
      "authorship_tag": "ABX9TyOVJnu5zv4e5mkNiNQZJGl8",
      "include_colab_link": true
    },
    "kernelspec": {
      "name": "python3",
      "display_name": "Python 3"
    },
    "language_info": {
      "name": "python"
    },
    "gpuClass": "standard",
    "accelerator": "GPU"
  },
  "cells": [
    {
      "cell_type": "markdown",
      "metadata": {
        "id": "view-in-github",
        "colab_type": "text"
      },
      "source": [
        "<a href=\"https://colab.research.google.com/github/sanazy/Persian-Car-Licence-Plate-Detection-and-Recognition/blob/main/Train_CNN_Model_for_OCR.ipynb\" target=\"_parent\"><img src=\"https://colab.research.google.com/assets/colab-badge.svg\" alt=\"Open In Colab\"/></a>"
      ]
    },
    {
      "cell_type": "code",
      "execution_count": 1,
      "metadata": {
        "colab": {
          "base_uri": "https://localhost:8080/"
        },
        "id": "mQMXbnqsCTLu",
        "outputId": "19d29ac9-9cf1-4fe4-b6cc-12e723bb7263"
      },
      "outputs": [
        {
          "output_type": "stream",
          "name": "stdout",
          "text": [
            "Mounted at /content/gdrive\n"
          ]
        }
      ],
      "source": [
        "# mount google drive into colab\n",
        "from google.colab import drive\n",
        "drive.mount('/content/gdrive')"
      ]
    },
    {
      "cell_type": "code",
      "source": [
        "PATH = \"/content/gdrive/MyDrive/DPA/\"\n",
        "%cd {PATH}"
      ],
      "metadata": {
        "colab": {
          "base_uri": "https://localhost:8080/"
        },
        "id": "CfBcw-GDQAD_",
        "outputId": "d5c9abc2-7e11-4974-d25e-eb8063c0e79c"
      },
      "execution_count": 2,
      "outputs": [
        {
          "output_type": "stream",
          "name": "stdout",
          "text": [
            "/content/gdrive/MyDrive/DPA\n"
          ]
        }
      ]
    },
    {
      "cell_type": "markdown",
      "source": [
        "## Install and Import libraries"
      ],
      "metadata": {
        "id": "JpH1Z5oyCGJd"
      }
    },
    {
      "cell_type": "code",
      "source": [
        "!pip install split-folders -q"
      ],
      "metadata": {
        "id": "Uqrw1uRmECVZ"
      },
      "execution_count": 3,
      "outputs": []
    },
    {
      "cell_type": "code",
      "source": [
        "import os\n",
        "import numpy as np\n",
        "import cv2\n",
        "import random\n",
        "import matplotlib.pyplot as plt\n",
        "import seaborn as sn\n",
        "import splitfolders\n",
        "\n",
        "import keras\n",
        "import tensorflow as tf\n",
        "from tensorflow.keras.utils import to_categorical\n",
        "from keras.models import Sequential, load_model\n",
        "from keras.layers import Conv2D, MaxPooling2D, Dropout, Flatten, Dense\n",
        "from keras.optimizers import SGD"
      ],
      "metadata": {
        "id": "I0zIfaGeHfaa"
      },
      "execution_count": 4,
      "outputs": []
    },
    {
      "cell_type": "markdown",
      "source": [
        "## Download and Split Iranis Dataset"
      ],
      "metadata": {
        "id": "FBO5qIIYCLA9"
      }
    },
    {
      "cell_type": "code",
      "source": [
        "# download iranis dataset into a new directory\n",
        "%mkdir iranis_dataset\n",
        "%cd iranis_dataset\n",
        "!wget https://github.com/alitourani/Iranis-dataset/raw/master/Iranis%20Dataset%20Files.zip"
      ],
      "metadata": {
        "colab": {
          "base_uri": "https://localhost:8080/"
        },
        "id": "e33Butz6CzAB",
        "outputId": "824b12da-9e05-41dd-abdd-d5bc4020eb46"
      },
      "execution_count": 5,
      "outputs": [
        {
          "output_type": "stream",
          "name": "stdout",
          "text": [
            "/content/gdrive/MyDrive/DPA/iranis_dataset\n",
            "--2023-02-21 13:17:28--  https://github.com/alitourani/Iranis-dataset/raw/master/Iranis%20Dataset%20Files.zip\n",
            "Resolving github.com (github.com)... 20.205.243.166\n",
            "Connecting to github.com (github.com)|20.205.243.166|:443... connected.\n",
            "HTTP request sent, awaiting response... 302 Found\n",
            "Location: https://raw.githubusercontent.com/alitourani/Iranis-dataset/master/Iranis%20Dataset%20Files.zip [following]\n",
            "--2023-02-21 13:17:28--  https://raw.githubusercontent.com/alitourani/Iranis-dataset/master/Iranis%20Dataset%20Files.zip\n",
            "Resolving raw.githubusercontent.com (raw.githubusercontent.com)... 185.199.108.133, 185.199.109.133, 185.199.110.133, ...\n",
            "Connecting to raw.githubusercontent.com (raw.githubusercontent.com)|185.199.108.133|:443... connected.\n",
            "HTTP request sent, awaiting response... 200 OK\n",
            "Length: 70797614 (68M) [application/zip]\n",
            "Saving to: ‘Iranis Dataset Files.zip’\n",
            "\n",
            "Iranis Dataset File 100%[===================>]  67.52M  76.8MB/s    in 0.9s    \n",
            "\n",
            "2023-02-21 13:17:34 (76.8 MB/s) - ‘Iranis Dataset Files.zip’ saved [70797614/70797614]\n",
            "\n"
          ]
        }
      ]
    },
    {
      "cell_type": "code",
      "source": [
        "# unzip dataset\n",
        "!unzip -q 'Iranis Dataset Files.zip'"
      ],
      "metadata": {
        "id": "tEf7iCTfDJ7I"
      },
      "execution_count": 6,
      "outputs": []
    },
    {
      "cell_type": "code",
      "source": [
        "# remove zip file\n",
        "!rm 'Iranis Dataset Files.zip'"
      ],
      "metadata": {
        "id": "vkWmRyi55Wbo"
      },
      "execution_count": 7,
      "outputs": []
    },
    {
      "cell_type": "code",
      "source": [
        "# split dataset into train/val/test sets\n",
        "input_dir = PATH + 'iranis_dataset/'\n",
        "output_dir = PATH + 'iranis_dataset_split/'\n",
        "\n",
        "splitfolders.ratio(input_dir, # The location of dataset\n",
        "                   output = output_dir, # The output location\n",
        "                   seed = 42, # The number of seed\n",
        "                   ratio = (.7, .2, .1), # The ratio of splited dataset\n",
        "                   group_prefix = None, # If your dataset contains more than one file like \".jpg\", \".pdf\", etc\n",
        "                   move = False # If you choose to move, turn this into True\n",
        "                   )"
      ],
      "metadata": {
        "colab": {
          "base_uri": "https://localhost:8080/"
        },
        "id": "vF-nGHi_GQVS",
        "outputId": "970cb699-26f6-4b02-9f88-3a34ba699298"
      },
      "execution_count": 8,
      "outputs": [
        {
          "output_type": "stream",
          "name": "stderr",
          "text": [
            "Copying files: 83844 files [15:03, 92.82 files/s] \n"
          ]
        }
      ]
    },
    {
      "cell_type": "markdown",
      "source": [
        "## Train a Model for Character Recognition"
      ],
      "metadata": {
        "id": "LL_snHevB_Q-"
      }
    },
    {
      "cell_type": "code",
      "source": [
        "# define pathes\n",
        "data_path = PATH + \"iranis_dataset_split/\" \n",
        "train_path = data_path + \"train/\"\n",
        "valid_path = data_path + \"val/\"\n",
        "test_path = data_path + \"test/\""
      ],
      "metadata": {
        "id": "SGQnohi9KrB1"
      },
      "execution_count": 9,
      "outputs": []
    },
    {
      "cell_type": "code",
      "source": [
        "# define image size\n",
        "IMAGE_SIZE = (32, 32)"
      ],
      "metadata": {
        "id": "UJh9zy6UBsHV"
      },
      "execution_count": 10,
      "outputs": []
    },
    {
      "cell_type": "code",
      "source": [
        "class_names = subdirs = [name for name in os.listdir(train_path)]\n",
        "print(\"Class names: \", class_names)\n",
        "\n",
        "num_classes = len(class_names)\n",
        "print(\"Number of classes: \", num_classes)\n",
        "\n",
        "labels_nums = [i for i in range(0,len(class_names))]\n",
        "print(\"Label of classes: \", labels_nums)"
      ],
      "metadata": {
        "id": "E3Q0q4nMK1fj",
        "colab": {
          "base_uri": "https://localhost:8080/"
        },
        "outputId": "6ec2b6c2-4163-44c9-ef27-8476f1bed0fe"
      },
      "execution_count": 11,
      "outputs": [
        {
          "output_type": "stream",
          "name": "stdout",
          "text": [
            "Class names:  ['0', '1', '2', '3', '4', '5', '6', '7', '8', '9', 'A', 'B', 'D', 'Gh', 'H', 'J', 'L', 'M', 'N', 'P', 'PuV', 'PwD', 'Sad', 'Sin', 'T', 'Taxi', 'V', 'Y']\n",
            "Number of classes:  28\n",
            "Label of classes:  [0, 1, 2, 3, 4, 5, 6, 7, 8, 9, 10, 11, 12, 13, 14, 15, 16, 17, 18, 19, 20, 21, 22, 23, 24, 25, 26, 27]\n"
          ]
        }
      ]
    },
    {
      "cell_type": "code",
      "source": [
        "train_images = []\n",
        "train_labels = []\n",
        "\n",
        "# save images and their labels for training set\n",
        "for indx, subdir in enumerate(subdirs):\n",
        "  imgfolder = os.path.join(train_path, subdir)\n",
        "  for imgname in os.listdir(imgfolder):\n",
        "    # read and resize images\n",
        "    image = cv2.imread(os.path.join(imgfolder, imgname), 0)\n",
        "    image = cv2.resize(image, IMAGE_SIZE)\n",
        "    \n",
        "    train_images.append(image)\n",
        "    train_labels.append(labels_nums[indx])\n",
        "\n",
        "c = list(zip(train_images, train_labels))\n",
        "random.shuffle(c)\n",
        "train_images, train_labels = zip(*c)"
      ],
      "metadata": {
        "id": "yiinfZrjLdbf"
      },
      "execution_count": 12,
      "outputs": []
    },
    {
      "cell_type": "code",
      "source": [
        "print(\"individual training image size: \", train_images[0].shape)\n",
        "print(\"training images size: \", np.array(train_images).shape)\n",
        "print(\"training labels size: \", np.array(train_labels).shape)"
      ],
      "metadata": {
        "colab": {
          "base_uri": "https://localhost:8080/"
        },
        "id": "zpZhbrgx8JMl",
        "outputId": "457b6147-fbbc-4624-c296-6de02162806b"
      },
      "execution_count": 14,
      "outputs": [
        {
          "output_type": "stream",
          "name": "stdout",
          "text": [
            "individual training image size:  (32, 32)\n",
            "training images size:  (58678, 32, 32)\n",
            "training labels size:  (58678,)\n"
          ]
        }
      ]
    },
    {
      "cell_type": "code",
      "source": [
        "val_images = []\n",
        "val_labels = []\n",
        "\n",
        "# save images and their labels for validation set\n",
        "for indx, subdir in enumerate(subdirs):\n",
        "  imgfolder = os.path.join(valid_path, subdir)\n",
        "  \n",
        "  for imgname in os.listdir(imgfolder):\n",
        "    # read and resize images\n",
        "    image = cv2.imread(os.path.join(imgfolder, imgname), 0)\n",
        "    image = cv2.resize(image, IMAGE_SIZE)\n",
        "\n",
        "    val_images.append(image)\n",
        "    val_labels.append(labels_nums[indx])\n",
        "\n",
        "c = list(zip(val_images, val_labels))\n",
        "random.shuffle(c)\n",
        "val_images, val_labels = zip(*c)"
      ],
      "metadata": {
        "id": "bA3Xv4OaLxYf"
      },
      "execution_count": 15,
      "outputs": []
    },
    {
      "cell_type": "code",
      "source": [
        "print(\"individual validation image size: \", val_images[0].shape)\n",
        "print(\"validation images size: \", np.array(val_images).shape)\n",
        "print(\"validation labels size: \", np.array(val_labels).shape)"
      ],
      "metadata": {
        "colab": {
          "base_uri": "https://localhost:8080/"
        },
        "id": "GRSb8lU19o_8",
        "outputId": "bbe93958-4434-410f-87f0-401c603b299f"
      },
      "execution_count": 18,
      "outputs": [
        {
          "output_type": "stream",
          "name": "stdout",
          "text": [
            "individual validation image size:  (32, 32)\n",
            "validation images size:  (16759, 32, 32)\n",
            "validation labels size:  (16759,)\n"
          ]
        }
      ]
    },
    {
      "cell_type": "code",
      "source": [
        "# divide each pixel to 255 for faster and easier computation\n",
        "X_train = np.array(train_images) / 255.0\n",
        "# convert a class vector (integers) to binary class matrix\n",
        "y_train = to_categorical(train_labels, num_classes=num_classes, dtype =\"uint8\")\n",
        "\n",
        "print(X_train.shape)\n",
        "print(y_train.shape)"
      ],
      "metadata": {
        "id": "w-UgE5ayLglI",
        "colab": {
          "base_uri": "https://localhost:8080/"
        },
        "outputId": "b13de435-d724-4edd-956a-a63d5154271e"
      },
      "execution_count": 19,
      "outputs": [
        {
          "output_type": "stream",
          "name": "stdout",
          "text": [
            "(58678, 32, 32)\n",
            "(58678, 28)\n"
          ]
        }
      ]
    },
    {
      "cell_type": "code",
      "source": [
        "X_val = np.array(val_images) / 255.0\n",
        "y_val = to_categorical(val_labels, num_classes=num_classes, dtype =\"uint8\")\n",
        "\n",
        "print(X_val.shape)\n",
        "print(y_val.shape)"
      ],
      "metadata": {
        "colab": {
          "base_uri": "https://localhost:8080/"
        },
        "id": "SAydZZipJMz7",
        "outputId": "954db006-66f7-49ad-9ff7-6149f01cc625"
      },
      "execution_count": 20,
      "outputs": [
        {
          "output_type": "stream",
          "name": "stdout",
          "text": [
            "(16759, 32, 32)\n",
            "(16759, 28)\n"
          ]
        }
      ]
    },
    {
      "cell_type": "code",
      "source": [
        "# show arbitrary image from training set\n",
        "num = 1000\n",
        "print(\"Class name: \", class_names[train_labels[num]])\n",
        "print(\"Train label: \", train_labels[num])\n",
        "print(\"Image size: \", train_images[num].shape)\n",
        "plt.imshow(train_images[num], cmap='gist_gray')"
      ],
      "metadata": {
        "colab": {
          "base_uri": "https://localhost:8080/",
          "height": 337
        },
        "id": "5ysN3VnSL39N",
        "outputId": "c4ca6d40-ec6a-4d85-e2a4-01b9f35ee597"
      },
      "execution_count": 21,
      "outputs": [
        {
          "output_type": "stream",
          "name": "stdout",
          "text": [
            "Class name:  B\n",
            "Train label:  11\n",
            "Image size:  (32, 32)\n"
          ]
        },
        {
          "output_type": "execute_result",
          "data": {
            "text/plain": [
              "<matplotlib.image.AxesImage at 0x7feddf9c6c10>"
            ]
          },
          "metadata": {},
          "execution_count": 21
        },
        {
          "output_type": "display_data",
          "data": {
            "text/plain": [
              "<Figure size 432x288 with 1 Axes>"
            ],
            "image/png": "[encoded data removed]"
          },
          "metadata": {
            "needs_background": "light"
          }
        }
      ]
    },
    {
      "cell_type": "code",
      "source": [
        "# define model \n",
        "model = Sequential()\n",
        "\n",
        "model.add(Conv2D(32, (3, 3), activation='relu', padding='same', \n",
        "                 input_shape=(IMAGE_SIZE[0], IMAGE_SIZE[1], 1)))\n",
        "model.add(Conv2D(32, (3, 3), activation='relu', padding='same'))\n",
        "model.add(MaxPooling2D((2, 2)))\n",
        "model.add(Dropout(0.2))\n",
        "\n",
        "model.add(Conv2D(64, (3, 3), activation='relu', padding='same'))\n",
        "model.add(Conv2D(64, (3, 3), activation='relu', padding='same'))\n",
        "model.add(MaxPooling2D((2, 2)))\n",
        "model.add(Dropout(0.2))\n",
        "\n",
        "model.add(Conv2D(128, (3, 3), activation='relu', padding='same'))\n",
        "model.add(Conv2D(128, (3, 3), activation='relu', padding='same'))\n",
        "model.add(MaxPooling2D((2, 2)))\n",
        "model.add(Dropout(0.2))\n",
        "\n",
        "model.add(Flatten())\n",
        "model.add(Dense(128, activation='relu'))\n",
        "model.add(Dropout(0.2))\n",
        "model.add(Dense(num_classes, activation='softmax'))"
      ],
      "metadata": {
        "id": "0HxK3dw2MBbj"
      },
      "execution_count": 23,
      "outputs": []
    },
    {
      "cell_type": "code",
      "source": [
        "# compile model\n",
        "opt = SGD(learning_rate=0.01, momentum=0.9)\n",
        "model.compile(optimizer=opt, \n",
        "              loss='categorical_crossentropy', \n",
        "              metrics=['accuracy'])"
      ],
      "metadata": {
        "id": "6ei84mDTMDxL"
      },
      "execution_count": 24,
      "outputs": []
    },
    {
      "cell_type": "code",
      "source": [
        "# model summary\n",
        "model.summary()"
      ],
      "metadata": {
        "colab": {
          "base_uri": "https://localhost:8080/"
        },
        "id": "EDSSmmCYLVFq",
        "outputId": "1d750957-aab7-47f5-fc0f-78762e847177"
      },
      "execution_count": 25,
      "outputs": [
        {
          "output_type": "stream",
          "name": "stdout",
          "text": [
            "Model: \"sequential_1\"\n",
            "_________________________________________________________________\n",
            " Layer (type)                Output Shape              Param #   \n",
            "=================================================================\n",
            " conv2d_6 (Conv2D)           (None, 32, 32, 32)        320       \n",
            "                                                                 \n",
            " conv2d_7 (Conv2D)           (None, 32, 32, 32)        9248      \n",
            "                                                                 \n",
            " max_pooling2d_3 (MaxPooling  (None, 16, 16, 32)       0         \n",
            " 2D)                                                             \n",
            "                                                                 \n",
            " dropout_4 (Dropout)         (None, 16, 16, 32)        0         \n",
            "                                                                 \n",
            " conv2d_8 (Conv2D)           (None, 16, 16, 64)        18496     \n",
            "                                                                 \n",
            " conv2d_9 (Conv2D)           (None, 16, 16, 64)        36928     \n",
            "                                                                 \n",
            " max_pooling2d_4 (MaxPooling  (None, 8, 8, 64)         0         \n",
            " 2D)                                                             \n",
            "                                                                 \n",
            " dropout_5 (Dropout)         (None, 8, 8, 64)          0         \n",
            "                                                                 \n",
            " conv2d_10 (Conv2D)          (None, 8, 8, 128)         73856     \n",
            "                                                                 \n",
            " conv2d_11 (Conv2D)          (None, 8, 8, 128)         147584    \n",
            "                                                                 \n",
            " max_pooling2d_5 (MaxPooling  (None, 4, 4, 128)        0         \n",
            " 2D)                                                             \n",
            "                                                                 \n",
            " dropout_6 (Dropout)         (None, 4, 4, 128)         0         \n",
            "                                                                 \n",
            " flatten_1 (Flatten)         (None, 2048)              0         \n",
            "                                                                 \n",
            " dense_2 (Dense)             (None, 128)               262272    \n",
            "                                                                 \n",
            " dropout_7 (Dropout)         (None, 128)               0         \n",
            "                                                                 \n",
            " dense_3 (Dense)             (None, 28)                3612      \n",
            "                                                                 \n",
            "=================================================================\n",
            "Total params: 552,316\n",
            "Trainable params: 552,316\n",
            "Non-trainable params: 0\n",
            "_________________________________________________________________\n"
          ]
        }
      ]
    },
    {
      "cell_type": "code",
      "source": [
        "# train the model\n",
        "epochs = 10\n",
        "history = model.fit(X_train, \n",
        "                    y_train, \n",
        "                    validation_data = (X_val, y_val),\n",
        "                    epochs = epochs, \n",
        "                    batch_size = 128, \n",
        "                    verbose = 1)"
      ],
      "metadata": {
        "colab": {
          "base_uri": "https://localhost:8080/"
        },
        "id": "x3G-d3BuMGKn",
        "outputId": "d59ed496-7950-41aa-933a-8002e7451d74"
      },
      "execution_count": 26,
      "outputs": [
        {
          "output_type": "stream",
          "name": "stdout",
          "text": [
            "Epoch 1/10\n",
            "459/459 [==============================] - 16s 17ms/step - loss: 1.0444 - accuracy: 0.6987 - val_loss: 0.0938 - val_accuracy: 0.9700\n",
            "Epoch 2/10\n",
            "459/459 [==============================] - 7s 16ms/step - loss: 0.1132 - accuracy: 0.9627 - val_loss: 0.0536 - val_accuracy: 0.9827\n",
            "Epoch 3/10\n",
            "459/459 [==============================] - 7s 15ms/step - loss: 0.0738 - accuracy: 0.9767 - val_loss: 0.0297 - val_accuracy: 0.9921\n",
            "Epoch 4/10\n",
            "459/459 [==============================] - 7s 16ms/step - loss: 0.0510 - accuracy: 0.9852 - val_loss: 0.0211 - val_accuracy: 0.9952\n",
            "Epoch 5/10\n",
            "459/459 [==============================] - 7s 15ms/step - loss: 0.0376 - accuracy: 0.9889 - val_loss: 0.0239 - val_accuracy: 0.9942\n",
            "Epoch 6/10\n",
            "459/459 [==============================] - 7s 16ms/step - loss: 0.0315 - accuracy: 0.9911 - val_loss: 0.0184 - val_accuracy: 0.9953\n",
            "Epoch 7/10\n",
            "459/459 [==============================] - 7s 16ms/step - loss: 0.0247 - accuracy: 0.9930 - val_loss: 0.0150 - val_accuracy: 0.9967\n",
            "Epoch 8/10\n",
            "459/459 [==============================] - 7s 16ms/step - loss: 0.0216 - accuracy: 0.9937 - val_loss: 0.0146 - val_accuracy: 0.9967\n",
            "Epoch 9/10\n",
            "459/459 [==============================] - 7s 16ms/step - loss: 0.0185 - accuracy: 0.9947 - val_loss: 0.0126 - val_accuracy: 0.9968\n",
            "Epoch 10/10\n",
            "459/459 [==============================] - 7s 16ms/step - loss: 0.0172 - accuracy: 0.9950 - val_loss: 0.0149 - val_accuracy: 0.9965\n"
          ]
        }
      ]
    },
    {
      "cell_type": "code",
      "source": [
        "def plot_accuracy_loss(history):\n",
        "\n",
        "  fig = plt.figure(figsize=(18,10))\n",
        "\n",
        "  # Plot accuracy\n",
        "  plt.subplot(221)\n",
        "  plt.plot(history.history['accuracy'],'bo--', label = \"acc\")\n",
        "  plt.plot(history.history['val_accuracy'], 'mo--', label = \"val_acc\")\n",
        "  plt.title(\"train_acc vs val_acc\")\n",
        "  plt.ylabel(\"accuracy\")\n",
        "  plt.xlabel(\"epochs\")\n",
        "  plt.xticks(np.arange(0, epochs))\n",
        "  plt.legend()\n",
        "  plt.grid()\n",
        "\n",
        "  # Plot loss function\n",
        "  plt.subplot(222)\n",
        "  plt.plot(history.history['loss'],'bo--', label = \"loss\")\n",
        "  plt.plot(history.history['val_loss'], 'mo--', label = \"val_loss\")\n",
        "  plt.title(\"train_loss vs val_loss\")\n",
        "  plt.ylabel(\"loss\")\n",
        "  plt.xlabel(\"epochs\")\n",
        "  plt.xticks(np.arange(0, epochs))\n",
        "  plt.legend()\n",
        "  plt.grid()\n",
        "\n",
        "  plt.show()"
      ],
      "metadata": {
        "id": "drPAhRyLMqst"
      },
      "execution_count": 27,
      "outputs": []
    },
    {
      "cell_type": "code",
      "source": [
        "# plot accuracy and loss functions for train and train and validation sets \n",
        "plot_accuracy_loss(history)"
      ],
      "metadata": {
        "colab": {
          "base_uri": "https://localhost:8080/",
          "height": 312
        },
        "id": "MSLOmM_TMtMa",
        "outputId": "6ce94aad-e5ff-4495-d133-cfb1c11e1bad"
      },
      "execution_count": 28,
      "outputs": [
        {
          "output_type": "display_data",
          "data": {
            "text/plain": [
              "<Figure size 1296x720 with 2 Axes>"
            ],
            "image/png": "[encoded data removed]"
          },
          "metadata": {
            "needs_background": "light"
          }
        }
      ]
    },
    {
      "cell_type": "code",
      "source": [
        "# save the model\n",
        "model_path = PATH + 'ocr_model'\n",
        "model.save(model_path)"
      ],
      "metadata": {
        "colab": {
          "base_uri": "https://localhost:8080/"
        },
        "id": "R6SnhWZPNHWS",
        "outputId": "bdab02ff-ff2f-43b7-9f69-cec8698d24ca"
      },
      "execution_count": 29,
      "outputs": [
        {
          "output_type": "stream",
          "name": "stderr",
          "text": [
            "WARNING:absl:Found untraced functions such as _jit_compiled_convolution_op, _jit_compiled_convolution_op, _jit_compiled_convolution_op, _jit_compiled_convolution_op, _jit_compiled_convolution_op while saving (showing 5 of 6). These functions will not be directly callable after loading.\n"
          ]
        }
      ]
    },
    {
      "cell_type": "markdown",
      "source": [
        "## Test the trained model on test data"
      ],
      "metadata": {
        "id": "ELAvEzAFGlsf"
      }
    },
    {
      "cell_type": "code",
      "source": [
        "# load the model\n",
        "ocr_model = tf.keras.models.load_model(model_path)"
      ],
      "metadata": {
        "id": "DP5rvvySNLYa"
      },
      "execution_count": 30,
      "outputs": []
    },
    {
      "cell_type": "code",
      "source": [
        "test_images = []\n",
        "test_labels = []\n",
        "\n",
        "# save images and their labels for test set\n",
        "for indx, subdir in enumerate(subdirs):\n",
        "  imgfolder = os.path.join(test_path, subdir)\n",
        "  \n",
        "  for imgname in os.listdir(imgfolder):\n",
        "    # read and resize images\n",
        "    image = cv2.imread(os.path.join(imgfolder, imgname), 0)\n",
        "    image = cv2.resize(image, IMAGE_SIZE)\n",
        "    \n",
        "    test_images.append(image)\n",
        "    test_labels.append(labels_nums[indx])\n",
        "\n",
        "c = list(zip(test_images, test_labels))\n",
        "random.shuffle(c)\n",
        "test_images, test_labels = zip(*c)"
      ],
      "metadata": {
        "id": "gWoughh6Nf1S"
      },
      "execution_count": 31,
      "outputs": []
    },
    {
      "cell_type": "code",
      "source": [
        "print(\"individual test image size: \", test_images[0].shape)\n",
        "print(\"test images size: \", np.array(test_images).shape)\n",
        "print(\"test labels size: \", np.array(test_labels).shape)"
      ],
      "metadata": {
        "colab": {
          "base_uri": "https://localhost:8080/"
        },
        "id": "KBXYuhjALyAc",
        "outputId": "cfb4a790-a169-407d-b702-0b2622b68209"
      },
      "execution_count": 32,
      "outputs": [
        {
          "output_type": "stream",
          "name": "stdout",
          "text": [
            "individual test image size:  (32, 32)\n",
            "test images size:  (8407, 32, 32)\n",
            "test labels size:  (8407,)\n"
          ]
        }
      ]
    },
    {
      "cell_type": "code",
      "source": [
        "X_test = np.array(test_images) / 255.0\n",
        "\n",
        "print(X_test.shape)"
      ],
      "metadata": {
        "id": "zjgHeEOD5k3-",
        "colab": {
          "base_uri": "https://localhost:8080/"
        },
        "outputId": "aceeb3a5-3105-4174-f78d-9c2933a14c8a"
      },
      "execution_count": 33,
      "outputs": [
        {
          "output_type": "stream",
          "name": "stdout",
          "text": [
            "(8407, 32, 32)\n"
          ]
        }
      ]
    },
    {
      "cell_type": "code",
      "source": [
        "# predict the class of test set \n",
        "y_predicted = ocr_model.predict(X_test)\n",
        "\n",
        "# assign corresponding label of predictions \n",
        "y_predicted_labels = [np.argmax(i) for i in y_predicted]"
      ],
      "metadata": {
        "colab": {
          "base_uri": "https://localhost:8080/"
        },
        "id": "NKvQHXBOOF_z",
        "outputId": "98105595-e9bb-40e5-ca3f-2a6ce8fcec86"
      },
      "execution_count": 34,
      "outputs": [
        {
          "output_type": "stream",
          "name": "stdout",
          "text": [
            "263/263 [==============================] - 1s 3ms/step\n"
          ]
        }
      ]
    },
    {
      "cell_type": "code",
      "source": [
        "#‌ show an arbitrary image from test sets\n",
        "num = 100\n",
        "print(\"Predicted class name: \", class_names[np.argmax(y_predicted[num])])\n",
        "print(\"Predicted label: \", y_predicted_labels[num])\n",
        "plt.imshow(test_images[num], cmap='gist_gray')"
      ],
      "metadata": {
        "colab": {
          "base_uri": "https://localhost:8080/",
          "height": 320
        },
        "id": "LCjNfbaAOJ1b",
        "outputId": "94543b13-fd98-448b-998a-d1d1f524c0cc"
      },
      "execution_count": 37,
      "outputs": [
        {
          "output_type": "stream",
          "name": "stdout",
          "text": [
            "Predicted class name:  V\n",
            "Predicted label:  26\n"
          ]
        },
        {
          "output_type": "execute_result",
          "data": {
            "text/plain": [
              "<matplotlib.image.AxesImage at 0x7fed4cee47f0>"
            ]
          },
          "metadata": {},
          "execution_count": 37
        },
        {
          "output_type": "display_data",
          "data": {
            "text/plain": [
              "<Figure size 432x288 with 1 Axes>"
            ],
            "image/png": "[encoded data removed]"
          },
          "metadata": {
            "needs_background": "light"
          }
        }
      ]
    },
    {
      "cell_type": "code",
      "source": [
        "# confusion matrix for all classes\n",
        "cm = tf.math.confusion_matrix(labels=test_labels, predictions=y_predicted_labels)\n",
        "\n",
        "plt.figure(figsize = (10,7))\n",
        "sn.heatmap(cm, annot=True, fmt='d')\n",
        "plt.xlabel('Predicted')\n",
        "plt.ylabel('Truth')"
      ],
      "metadata": {
        "colab": {
          "base_uri": "https://localhost:8080/",
          "height": 460
        },
        "id": "gW4G39K8OL3I",
        "outputId": "5a03c196-8050-46ac-8cb5-80453fa5ac84"
      },
      "execution_count": 38,
      "outputs": [
        {
          "output_type": "execute_result",
          "data": {
            "text/plain": [
              "Text(69.0, 0.5, 'Truth')"
            ]
          },
          "metadata": {},
          "execution_count": 38
        },
        {
          "output_type": "display_data",
          "data": {
            "text/plain": [
              "<Figure size 720x504 with 2 Axes>"
            ],
            "image/png": "[encoded data removed]"
          },
          "metadata": {
            "needs_background": "light"
          }
        }
      ]
    }
  ]
}